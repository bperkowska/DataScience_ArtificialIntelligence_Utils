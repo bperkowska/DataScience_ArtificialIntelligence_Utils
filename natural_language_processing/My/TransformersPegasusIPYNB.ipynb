{
 "cells": [
  {
   "cell_type": "code",
   "execution_count": 7,
   "metadata": {},
   "outputs": [],
   "source": [
    "from transformers import pipeline\n",
    "from transformers import PegasusForConditionalGeneration, PegasusTokenizer"
   ]
  },
  {
   "cell_type": "code",
   "execution_count": 8,
   "metadata": {},
   "outputs": [],
   "source": [
    "model_name = \"google/pegasus-xsum\"\n",
    "article = \"Italy’s disasters suggest the climate crisis is at the gates of Europe. This week’s floods are latest weather disaster to hit country, as policymakers finally begin to respond to crescendo. This week, parts of northern Italy’s Emilia-Romagna region received half their average annual rainfall in just 36 hours. Rivers burst their banks and thousands of acres of farmland lie submerged. By Thursday evening, an estimated 20,000 people had been left homeless and 13 were confirmed dead. It is just the latest weather disaster to hit the country. Six months ago, 12 people died on the southern island of Ischia in a landslide triggered by torrential rain. Eleven more were killed last September by flash floods in the central region of Marche. Last July, amid a heatwave and Italy’s worst drought for at least seven decades, an ice avalanche in the Italian Alps killed 11. It is too soon for an attribution study to determine how much worse, or more likely, this week’s floods were made by human-caused global heating. But across Europe, as atmospheric concentrations of carbon dioxide increase, so too does extreme weather – consecutive years of drought have afflicted farmers in Spain and southern France, while last year there were unprecedented heatwaves across the continent. “Climate change is here and we are living the consequences. It isn’t some remote prospect, it is the new normal,” Paola Pino d’Astore, an expert at the Italian Society of Environmental Geology (SIGEA), told Reuters. Experts say Italy’s geography makes it particularly vulnerable to climate disasters: its varied geology make it prone to floods and landslides, while rapidly warming seas either side make it vulnerable to increasingly powerful storms, amid rising temperatures. The frontlines of the climate crisis have hitherto been in the global south, leading to the oft-repeated refrain that those least responsible for the climate crisis are facing the worst effects. But for Italy now, and probably soon the rest of Europe, the enemy is at the gates. Last August, a weather station near Syracuse on the southern island of Sicily recorded 48.8C, which is thought to be the highest temperature ever measured in Europe. While the world fights a losing battle to keep the increase in global average temperatures below 1.5C, in Italy average temperatures over the past 10 years are already 2.1C higher than in pre-industrial times. Coldiretti, a national farmers’ group, says the number of extreme weather events recorded last summer, including tornadoes, giant hail stones and lightning strikes, was five times the number registered a decade ago. And, like in many parts of the world already feeling the impacts of climate breakdown, it is farmers suffering the most: last year’s severe drought caused crop yields to fall by up to 45%. The environmental group WWF Italia said the elimination of water-absorbing forests and vegetation along riverbanks in Emilia-Romagna had amplified this week’s disaster. Twenty three rivers burst their banks. Experts say it is the result of years of often unregulated building and industrial-scale agriculture. Despite the crescendo of extreme weather disasters, Italian policymakers are only just beginning to intervene. The environment ministry published the country’s first National Plan for Adaptation to Climate Change in December 2022 – after almost four years of delay. “A climate change adaptation policy that goes beyond how to handle emergencies and considers the effects of ordinary planning is increasingly urgent,” WWF Italia said in a statement.\""
   ]
  },
  {
   "cell_type": "code",
   "execution_count": 9,
   "metadata": {},
   "outputs": [],
   "source": [
    "pegasus_tokenizer = PegasusTokenizer.from_pretrained(model_name)\n",
    "pegasus_model = PegasusForConditionalGeneration.from_pretrained(model_name)"
   ]
  },
  {
   "cell_type": "code",
   "execution_count": 15,
   "metadata": {},
   "outputs": [
    {
     "data": {
      "text/plain": [
       "{'input_ids': tensor([[ 3397,   123,   116, 12802,  2298,   109,  2354,  3533,   117,   134,\n",
       "           109,  9540,   113,  1465,   107,   182,   396,   123,   116, 17266,\n",
       "           127,   807,  1403,  5135,   112,  1194,   531,   108,   130, 24016,\n",
       "          1477,  1213,   112,  2847,   112, 66031,   107,   182,   396,   108,\n",
       "           972,   113,  4905,  3397,   123,   116, 42490,   121, 86556,  1322,\n",
       "           915,   751,   153,  1077,  1450, 14197,   115,   188,  4335,   539,\n",
       "           107, 17705, 10126,   153,  3216,   111,  1873,   113,  5345,   113,\n",
       "         24041,  5372, 28812,   107,  1060,  1789,  1709,   108,   142,  3627,\n",
       "         12445,   200,   196,   174,   518,  8313,   111,  1428,   195,  3542,\n",
       "          2609,   107,   168,   117,   188,   109,   807,  1403,  5135,   112,\n",
       "          1194,   109,   531,   107,  7651,   590,   754,   108,   665,   200,\n",
       "          2342,   124,   109,  4576,  2273,   113,   125,   116, 30200,   115,\n",
       "           114, 48162, 10914,   141, 56519,  2750,   107, 36347,   154,   195,\n",
       "          3040,   289,  1338,   141,  4749, 17266,   115,   109,  2056,  1322,\n",
       "           113,  1051,   326,   107,  2882,  1307,   108, 10754,   114, 69919,\n",
       "           111,  3397,   123,   116,  3741, 11945,   118,   134,   583,  1761,\n",
       "          2701,   108,   142,  2003, 28770,   115,   109,  2942, 21885,  3040,\n",
       "          1073,   107,   168,   117,   314,   783,   118,   142, 30093,   692,\n",
       "           112,  1735,   199,   249,  3150,   108,   132,   154,   770,   108,\n",
       "           136,   396,   123,   116, 17266,   195,   266,   141,   883,     1]]), 'attention_mask': tensor([[1, 1, 1, 1, 1, 1, 1, 1, 1, 1, 1, 1, 1, 1, 1, 1, 1, 1, 1, 1, 1, 1, 1, 1,\n",
       "         1, 1, 1, 1, 1, 1, 1, 1, 1, 1, 1, 1, 1, 1, 1, 1, 1, 1, 1, 1, 1, 1, 1, 1,\n",
       "         1, 1, 1, 1, 1, 1, 1, 1, 1, 1, 1, 1, 1, 1, 1, 1, 1, 1, 1, 1, 1, 1, 1, 1,\n",
       "         1, 1, 1, 1, 1, 1, 1, 1, 1, 1, 1, 1, 1, 1, 1, 1, 1, 1, 1, 1, 1, 1, 1, 1,\n",
       "         1, 1, 1, 1, 1, 1, 1, 1, 1, 1, 1, 1, 1, 1, 1, 1, 1, 1, 1, 1, 1, 1, 1, 1,\n",
       "         1, 1, 1, 1, 1, 1, 1, 1, 1, 1, 1, 1, 1, 1, 1, 1, 1, 1, 1, 1, 1, 1, 1, 1,\n",
       "         1, 1, 1, 1, 1, 1, 1, 1, 1, 1, 1, 1, 1, 1, 1, 1, 1, 1, 1, 1, 1, 1, 1, 1,\n",
       "         1, 1, 1, 1, 1, 1, 1, 1, 1, 1, 1, 1, 1, 1, 1, 1, 1, 1, 1, 1, 1, 1, 1, 1,\n",
       "         1, 1, 1, 1, 1, 1, 1, 1]])}"
      ]
     },
     "execution_count": 15,
     "metadata": {},
     "output_type": "execute_result"
    }
   ],
   "source": [
    "tokens = pegasus_tokenizer(article, truncation = True, padding = \"longest\", return_tensors = \"pt\", max_length = 200)\n",
    "tokens"
   ]
  },
  {
   "cell_type": "code",
   "execution_count": 16,
   "metadata": {},
   "outputs": [
    {
     "data": {
      "text/plain": [
       "tensor([[    0, 17833,   116,   115,  4905,  3397,   133,  3040,   134,   583,\n",
       "          1428,   200,   111,   518,  1873,  8313,   107,     1]])"
      ]
     },
     "execution_count": 16,
     "metadata": {},
     "output_type": "execute_result"
    }
   ],
   "source": [
    "# summarizing\n",
    "encoded_summary = pegasus_model.generate(**tokens)\n",
    "encoded_summary"
   ]
  },
  {
   "cell_type": "code",
   "execution_count": 17,
   "metadata": {},
   "outputs": [
    {
     "name": "stdout",
     "output_type": "stream",
     "text": [
      "Floods in northern Italy have killed at least 13 people and left thousands homeless.\n"
     ]
    }
   ],
   "source": [
    "# transforming tokens into words\n",
    "decoded_summary = pegasus_tokenizer.decode(encoded_summary[0], skip_special_tokens = True)\n",
    "print(decoded_summary)"
   ]
  }
 ],
 "metadata": {
  "kernelspec": {
   "display_name": "Python 3",
   "language": "python",
   "name": "python3"
  },
  "language_info": {
   "codemirror_mode": {
    "name": "ipython",
    "version": 3
   },
   "file_extension": ".py",
   "mimetype": "text/x-python",
   "name": "python",
   "nbconvert_exporter": "python",
   "pygments_lexer": "ipython3",
   "version": "3.10.2"
  },
  "orig_nbformat": 4
 },
 "nbformat": 4,
 "nbformat_minor": 2
}
